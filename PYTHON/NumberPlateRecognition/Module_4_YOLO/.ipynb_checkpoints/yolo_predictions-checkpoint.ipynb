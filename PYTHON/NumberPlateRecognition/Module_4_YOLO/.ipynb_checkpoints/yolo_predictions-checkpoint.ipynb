{
 "cells": [
  {
   "cell_type": "code",
   "execution_count": 5,
   "id": "5ebabc7a",
   "metadata": {},
   "outputs": [],
   "source": [
    "import cv2\n",
    "import numpy as np\n",
    "import os\n",
    "import pytesseract as pt"
   ]
  },
  {
   "cell_type": "code",
   "execution_count": 6,
   "id": "5b8fddd6",
   "metadata": {},
   "outputs": [],
   "source": [
    "# configuraciones\n",
    "INPUT_WIDTH =  640\n",
    "INPUT_HEIGHT = 640"
   ]
  },
  {
   "cell_type": "code",
   "execution_count": 10,
   "id": "10dba39c",
   "metadata": {},
   "outputs": [],
   "source": [
    "# cargar una imagen\n",
    "img = cv2.imread('./test_images/ejemplo.jpg')\n",
    "\n",
    "cv2.namedWindow('test image', cv2.WINDOW_KEEPRATIO)\n",
    "cv2.imshow('test image', img)\n",
    "cv2.waitKey(5000)\n",
    "cv2.destroyAllWindows()"
   ]
  },
  {
   "cell_type": "code",
   "execution_count": 7,
   "id": "922f0528",
   "metadata": {},
   "outputs": [],
   "source": [
    "# CARGAR EL MODELO\n",
    "net = cv2.dnn.readNetFromONNX('./Model/weights/best.onnx')\n",
    "net.setPreferableBackend(cv2.dnn.DNN_BACKEND_OPENCV)\n",
    "net.setPreferableTarget(cv2.dnn.DNN_TARGET_CPU)"
   ]
  },
  {
   "cell_type": "code",
   "execution_count": 8,
   "id": "dd8430da",
   "metadata": {},
   "outputs": [],
   "source": [
    "def get_detections(img,net):\n",
    "    # CONVERTIR LA IMAGEN A FOROMATO YOLO\n",
    "    image = img.copy()\n",
    "    row, col, d = image.shape\n",
    "\n",
    "    max_rc = max(row,col)\n",
    "    input_image = np.zeros((max_rc,max_rc,3),dtype=np.uint8)\n",
    "    input_image[0:row,0:col] = image\n",
    "\n",
    "    # OBTENER PREDICCIÓN DEL MODELO YOLO\n",
    "    blob = cv2.dnn.blobFromImage(input_image,1/255,(INPUT_WIDTH,INPUT_HEIGHT),swapRB=True,crop=False)\n",
    "    net.setInput(blob)\n",
    "    preds = net.forward()\n",
    "    detections = preds[0]\n",
    "    \n",
    "    return input_image, detections\n",
    "\n",
    "def non_maximum_supression(input_image,detections):\n",
    "    # FILTRAR DETECCIONES BASADO EN LA CONFIANZA Y LA PUNTUACIÓN DE PROBABILIDAD\n",
    "    # center x, center y, w , h, conf, proba\n",
    "    boxes = []\n",
    "    confidences = []\n",
    "\n",
    "    image_w, image_h = input_image.shape[:2]\n",
    "    x_factor = image_w/INPUT_WIDTH\n",
    "    y_factor = image_h/INPUT_HEIGHT\n",
    "\n",
    "    for i in range(len(detections)):\n",
    "        row = detections[i]\n",
    "        confidence = row[4] # confianza al detectar la placa\n",
    "        if confidence > 0.4:\n",
    "            class_score = row[5] # puntuación de probabilidad de la matrícula\n",
    "            if class_score > 0.25:\n",
    "                cx, cy , w, h = row[0:4]\n",
    "\n",
    "                left = int((cx - 0.5*w)*x_factor)\n",
    "                top = int((cy-0.5*h)*y_factor)\n",
    "                width = int(w*x_factor)\n",
    "                height = int(h*y_factor)\n",
    "                box = np.array([left,top,width,height])\n",
    "\n",
    "                confidences.append(confidence)\n",
    "                boxes.append(box)\n",
    "\n",
    "    # clean\n",
    "    boxes_np = np.array(boxes).tolist()\n",
    "    confidences_np = np.array(confidences).tolist()\n",
    "    # NMS\n",
    "    index = cv2.dnn.NMSBoxes(boxes_np,confidences_np,0.25,0.45).flatten()\n",
    "    \n",
    "    return boxes_np, confidences_np, index\n",
    "\n",
    "def drawings(image,boxes_np,confidences_np,index):\n",
    "    # dibujos\n",
    "    for ind in index:\n",
    "        x,y,w,h =  boxes_np[ind]\n",
    "        bb_conf = confidences_np[ind]\n",
    "        conf_text = 'plate: {:.0f}%'.format(bb_conf*100)\n",
    "        license_text = extract_text(image,boxes_np[ind])\n",
    "\n",
    "\n",
    "        cv2.rectangle(image,(x,y),(x+w,y+h),(255,0,255),2)\n",
    "        cv2.rectangle(image,(x,y-30),(x+w,y),(255,0,255),-1)\n",
    "        cv2.rectangle(image,(x,y+h),(x+w,y+h+30),(0,0,0),-1)\n",
    "\n",
    "\n",
    "        cv2.putText(image,conf_text,(x,y-10),cv2.FONT_HERSHEY_SIMPLEX,0.7,(255,255,255),1)\n",
    "        cv2.putText(image,license_text,(x,y+h+27),cv2.FONT_HERSHEY_SIMPLEX,0.7,(0,255,0),1)\n",
    "\n",
    "    return image"
   ]
  },
  {
   "cell_type": "code",
   "execution_count": 10,
   "id": "f536e37e",
   "metadata": {},
   "outputs": [],
   "source": [
    "# predictiones\n",
    "def yolo_predictions(img,net):\n",
    "    ## paso-1: detectiones\n",
    "    input_image, detections = get_detections(img,net)\n",
    "    ## paso-2: NMS\n",
    "    boxes_np, confidences_np, index = non_maximum_supression(input_image, detections)\n",
    "    ## paso-3: Dibujos\n",
    "    result_img = drawings(img,boxes_np,confidences_np,index)\n",
    "    return result_img"
   ]
  },
  {
   "cell_type": "code",
   "execution_count": 11,
   "id": "7c6cbfd8",
   "metadata": {},
   "outputs": [],
   "source": [
    "def extract_text(image,bbox):\n",
    "    x,y,w,h = bbox\n",
    "    roi = image[y:y+h, x:x+w]\n",
    "    \n",
    "    if 0 in roi.shape:\n",
    "        return ''\n",
    "    \n",
    "    else:\n",
    "        text = pt.image_to_string(roi)\n",
    "        text = text.strip()\n",
    "        \n",
    "        return text"
   ]
  },
  {
   "cell_type": "code",
   "execution_count": 13,
   "id": "a4ea6d7c",
   "metadata": {},
   "outputs": [],
   "source": [
    "# prueba\n",
    "img = cv2.imread('./test_images/N50.jpeg')\n",
    "\n",
    "results = yolo_predictions(img,net)"
   ]
  },
  {
   "cell_type": "code",
   "execution_count": 12,
   "id": "ccaf271d",
   "metadata": {},
   "outputs": [],
   "source": [
    "cv2.namedWindow('results',cv2.WINDOW_KEEPRATIO)\n",
    "cv2.imshow('results',results)\n",
    "cv2.waitKey(5000)\n",
    "cv2.destroyAllWindows()"
   ]
  },
  {
   "cell_type": "code",
   "execution_count": 19,
   "id": "43d767aa",
   "metadata": {},
   "outputs": [
    {
     "name": "stdout",
     "output_type": "stream",
     "text": [
      "—= ae\n",
      "Sind ———\n",
      "rs ——\n",
      "\n",
      "(MH 14078831)\n"
     ]
    }
   ],
   "source": [
    "# Supongamos que tienes una imagen llamada 'mi_imagen.jpg'\n",
    "imagen = cv2.imread('./test_images/N50.jpeg')\n",
    "\n",
    "# Supongamos que el cuadro delimitador es (x=100, y=50, ancho=200, altura=100)\n",
    "#cuadro_delimitador = (107, 82, 372, 203)\n",
    "cuadro_delimitador = (107, 82, 372, 203)\n",
    "\n",
    "# Llamada a la función\n",
    "texto_extraido = extract_text(imagen, cuadro_delimitador)\n",
    "\n",
    "# Imprime el texto extraído\n",
    "print(texto_extraido)"
   ]
  },
  {
   "cell_type": "code",
   "execution_count": null,
   "id": "33f555dd",
   "metadata": {},
   "outputs": [],
   "source": []
  },
  {
   "cell_type": "code",
   "execution_count": null,
   "id": "334df62b",
   "metadata": {},
   "outputs": [],
   "source": []
  },
  {
   "cell_type": "code",
   "execution_count": null,
   "id": "8c7b1fd7",
   "metadata": {},
   "outputs": [],
   "source": []
  },
  {
   "cell_type": "code",
   "execution_count": null,
   "id": "9a1b4192",
   "metadata": {},
   "outputs": [],
   "source": []
  },
  {
   "cell_type": "code",
   "execution_count": null,
   "id": "7f27b571",
   "metadata": {},
   "outputs": [],
   "source": []
  },
  {
   "cell_type": "code",
   "execution_count": null,
   "id": "35601036",
   "metadata": {},
   "outputs": [],
   "source": []
  },
  {
   "cell_type": "code",
   "execution_count": null,
   "id": "08266d2f",
   "metadata": {},
   "outputs": [],
   "source": []
  }
 ],
 "metadata": {
  "kernelspec": {
   "display_name": "Python 3",
   "language": "python",
   "name": "python3"
  },
  "language_info": {
   "codemirror_mode": {
    "name": "ipython",
    "version": 3
   },
   "file_extension": ".py",
   "mimetype": "text/x-python",
   "name": "python",
   "nbconvert_exporter": "python",
   "pygments_lexer": "ipython3",
   "version": "3.8.8"
  }
 },
 "nbformat": 4,
 "nbformat_minor": 5
}
